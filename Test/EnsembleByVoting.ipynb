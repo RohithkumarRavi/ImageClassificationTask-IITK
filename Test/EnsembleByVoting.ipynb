{
  "nbformat": 4,
  "nbformat_minor": 0,
  "metadata": {
    "colab": {
      "name": "EnsembleByVoting.ipynb",
      "provenance": []
    },
    "kernelspec": {
      "name": "python3",
      "display_name": "Python 3"
    },
    "accelerator": "GPU"
  },
  "cells": [
    {
      "cell_type": "code",
      "metadata": {
        "id": "VGAWPBtWzSBN",
        "colab_type": "code",
        "colab": {}
      },
      "source": [
        "!unzip -q \"/content/drive/My Drive/ImageClassification/ImageClassification.zip\""
      ],
      "execution_count": null,
      "outputs": []
    },
    {
      "cell_type": "code",
      "metadata": {
        "id": "XO2qIUDf24vq",
        "colab_type": "code",
        "colab": {}
      },
      "source": [
        "from tensorflow.keras.models import load_model\n",
        "model1 = load_model('/')  #Load the saved model\n",
        "model2 = load_model('/') \n",
        "model3 = load_model('/') "
      ],
      "execution_count": null,
      "outputs": []
    },
    {
      "cell_type": "code",
      "metadata": {
        "id": "AkXq3sIU7tGe",
        "colab_type": "code",
        "colab": {}
      },
      "source": [
        "import os\n",
        "from keras.preprocessing import image\n",
        "import numpy as np"
      ],
      "execution_count": null,
      "outputs": []
    },
    {
      "cell_type": "code",
      "metadata": {
        "id": "FSSLybN88B8b",
        "colab_type": "code",
        "colab": {}
      },
      "source": [
        "test_path = '/content/ImageClassification/test224'"
      ],
      "execution_count": null,
      "outputs": []
    },
    {
      "cell_type": "code",
      "metadata": {
        "id": "y0jkdUj2-clh",
        "colab_type": "code",
        "colab": {}
      },
      "source": [
        "test_dir = os.listdir(test_path)"
      ],
      "execution_count": null,
      "outputs": []
    },
    {
      "cell_type": "code",
      "metadata": {
        "id": "SCcj6pQA8Fed",
        "colab_type": "code",
        "colab": {}
      },
      "source": [
        "output1 = []\n",
        "for img in os.listdir(test_path):\n",
        "    img = os.path.join(test_path, img)\n",
        "    img = image.load_img(img, target_size=(224, 224))\n",
        "    img_arr = np.zeros((1,224,224,3))\n",
        "    img = image.img_to_array(img)\n",
        "    img = img/255.\n",
        "    img = np.expand_dims(img, axis=0)\n",
        "    pred = model1(img)\n",
        "    _, predicted = torch.max(pred, 1)\n",
        "    #ind = np.argmax(pred)\n",
        "    output1.append(predicted)\n",
        "print(output1)"
      ],
      "execution_count": null,
      "outputs": []
    },
    {
      "cell_type": "code",
      "metadata": {
        "id": "nN_tHJET8ScG",
        "colab_type": "code",
        "colab": {}
      },
      "source": [
        "output2 = []\n",
        "for img in os.listdir(test_path):\n",
        "    img = os.path.join(test_path, img)\n",
        "    img = image.load_img(img, target_size=(224, 224))\n",
        "    img_arr = np.zeros((1,224,224,3))\n",
        "    img = image.img_to_array(img)\n",
        "    img = img/255.\n",
        "    img = np.expand_dims(img, axis=0)\n",
        "    pred = model2.predict(img)\n",
        "    ind = np.argmax(pred)\n",
        "    output2.append(ind)\n",
        "print(output2)\n",
        "print(os.listdir(test_path))"
      ],
      "execution_count": null,
      "outputs": []
    },
    {
      "cell_type": "code",
      "metadata": {
        "id": "-kWvYnW8KRlo",
        "colab_type": "code",
        "colab": {}
      },
      "source": [
        "print(output2)"
      ],
      "execution_count": null,
      "outputs": []
    },
    {
      "cell_type": "code",
      "metadata": {
        "id": "etMMkYhBKhY6",
        "colab_type": "code",
        "colab": {}
      },
      "source": [
        "output3 = []\n",
        "for img in os.listdir(test_path):\n",
        "    img = os.path.join(test_path, img)\n",
        "    img = image.load_img(img, target_size=(224, 224))\n",
        "    img_arr = np.zeros((1,224,224,3))\n",
        "    img = image.img_to_array(img)\n",
        "    img = img/255.\n",
        "    img = np.expand_dims(img, axis=0)\n",
        "    pred = model3.predict(img)\n",
        "    ind = np.argmax(pred)\n",
        "    output3.append(ind)\n",
        "print(output3)"
      ],
      "execution_count": null,
      "outputs": []
    },
    {
      "cell_type": "code",
      "metadata": {
        "id": "NHw_Z8VXNKw0",
        "colab_type": "code",
        "colab": {}
      },
      "source": [
        "import scipy.stats as stats\n",
        "output = [output1,output2,output3]\n",
        "output = np.array(output)\n",
        "#output = np.transpose(output, (1, 0))\n",
        "output = stats.mode(output)\n",
        "#put = np.squeeze(output)\n",
        "output = output[0].tolist()\n",
        "for ele in output:\n",
        "  output = ele\n",
        "output"
      ],
      "execution_count": null,
      "outputs": []
    },
    {
      "cell_type": "code",
      "metadata": {
        "id": "QLPrcw39-w8S",
        "colab_type": "code",
        "colab": {}
      },
      "source": [
        "train_path = '/content/ImageClassification/train224'\n",
        "import os\n",
        "train_dir = os.listdir(train_path)\n",
        "train_dir.sort()"
      ],
      "execution_count": null,
      "outputs": []
    },
    {
      "cell_type": "code",
      "metadata": {
        "id": "2mwXjP3sBD0_",
        "colab_type": "code",
        "colab": {}
      },
      "source": [
        "import pandas as pd \n",
        "result = []\n",
        "for ele in output:\n",
        "  result.append(train_dir[ele])\n",
        "result = pd.DataFrame(result)\n",
        "result.head()"
      ],
      "execution_count": null,
      "outputs": []
    },
    {
      "cell_type": "code",
      "metadata": {
        "id": "O2wQX3eBBK2n",
        "colab_type": "code",
        "colab": {}
      },
      "source": [
        "test_dir = pd.DataFrame(test_dir)\n",
        "submission = [test_dir,result]\n",
        "sub = pd.concat(submission,axis=1)\n",
        "sub.to_csv('EnsembleSubmission.csv')"
      ],
      "execution_count": null,
      "outputs": []
    },
    {
      "cell_type": "code",
      "metadata": {
        "id": "v6Yjhc_EBSm4",
        "colab_type": "code",
        "colab": {}
      },
      "source": [
        ""
      ],
      "execution_count": null,
      "outputs": []
    }
  ]
}